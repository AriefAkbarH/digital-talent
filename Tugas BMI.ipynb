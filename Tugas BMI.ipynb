{
 "cells": [
  {
   "cell_type": "markdown",
   "metadata": {},
   "source": [
    "#  Body Mass Index (BMI) Calculator"
   ]
  },
  {
   "cell_type": "code",
   "execution_count": 3,
   "metadata": {},
   "outputs": [],
   "source": [
    "#method for calculating BMI\n",
    "def calculate_BMI(weight, height): \n",
    "    \"\"\"Body Mass Index (BMI) Calculator\n",
    "        :param weight: Weight of the person\n",
    "        :param height: Height of the person\n",
    "    \"\"\"\n",
    "    \n",
    "    height_m = height/100 #unit conversion centimeters to meters\n",
    "        \n",
    "    BMI = weight/height_m**2 #formula for calculating BMI\n",
    "        \n",
    "    BMI = round(BMI) #rounding comma numbers for BMI\n",
    "        \n",
    "    print(\"Your BMI is\", BMI) #BMI Output\n",
    "\n",
    "    if BMI >= 40:\n",
    "        print(\"Your BMI category is: Very severely obese\")\n",
    "    elif 35 <= BMI < 40:\n",
    "        print(\"Your BMI category is: Severely obese\")\n",
    "    elif 30 <= BMI < 35:\n",
    "        print(\"Your BMI category is: Moderately obese\")\n",
    "    elif 25 <= BMI < 30:\n",
    "        print(\"Your BMI category is: Overweight\")\n",
    "    elif 18.5 <= BMI < 25:\n",
    "        print(\"Your BMI category is: Normal\")\n",
    "    elif 16 <= BMI < 18.5:\n",
    "        print(\"Your BMI category is: Underweight\")\n",
    "    elif 15 <= BMI < 16:\n",
    "        print(\"Your BMI category is: Severly underweight\")\n",
    "    else:\n",
    "        print(\"Your BMI category is: very severely underweight\")"
   ]
  },
  {
   "cell_type": "code",
   "execution_count": 4,
   "metadata": {},
   "outputs": [
    {
     "name": "stdout",
     "output_type": "stream",
     "text": [
      "Welcome to BMI Calculator!\n",
      "Input Your weight(Kg): 54\n",
      "Input Your Height (Cm): 169\n",
      "Your BMI is 19\n",
      "Your BMI category is: Normal\n"
     ]
    }
   ],
   "source": [
    "print(\"Welcome to BMI Calculator!\")\n",
    "\n",
    "#error handling\n",
    "while True:\n",
    "    try:\n",
    "        weight = float(input(\"Input Your weight(Kg): \"))\n",
    "        height = float(input(\"Input Your Height (Cm): \"))\n",
    "        break\n",
    "    except:    \n",
    "        print(\"Input the number! or change comma(,) with dot(.)\")   \n",
    "\n",
    "if weight <=0 or height <=0:#numbers limit that can be input\n",
    "    print(\"Number cannot be zero or negative\")    \n",
    "else:\n",
    "    calculate_BMI(weight, height) #call Calculate_BMI Method\n",
    "        \n"
   ]
  }
 ],
 "metadata": {
  "kernelspec": {
   "display_name": "Python 3",
   "language": "python",
   "name": "python3"
  },
  "language_info": {
   "codemirror_mode": {
    "name": "ipython",
    "version": 3
   },
   "file_extension": ".py",
   "mimetype": "text/x-python",
   "name": "python",
   "nbconvert_exporter": "python",
   "pygments_lexer": "ipython3",
   "version": "3.7.0"
  }
 },
 "nbformat": 4,
 "nbformat_minor": 2
}

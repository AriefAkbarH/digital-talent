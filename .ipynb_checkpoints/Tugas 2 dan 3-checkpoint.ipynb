{
 "cells": [
  {
   "cell_type": "markdown",
   "metadata": {},
   "source": [
    "# Jawaban Nomor 2"
   ]
  },
  {
   "cell_type": "code",
   "execution_count": 19,
   "metadata": {},
   "outputs": [
    {
     "name": "stdout",
     "output_type": "stream",
     "text": [
      "[63, 40, 65, 67, 86, 99, 67, 27, 72, 9, 50, 97, 63, 42, 27, 54, 21, 84, 36, 39, 65, 66, 15, 88, 23, 80, 59, 94, 10, 25, 35, 46, 49, 63, 94, 97, 15, 81, 30, 93, 86, 59, 85, 60, 81, 99, 76, 33, 92, 95, 57, 79, 49, 48, 98, 75, 8, 51, 94, 45, 9, 62, 31, 73, 11, 11, 49, 26, 94, 14, 36, 55, 16, 91, 18, 50, 47, 62, 97, 42, 36, 35, 50, 97, 33, 42, 11, 65, 47, 15, 92, 62, 13, 26, 25, 9, 22, 38, 58, 55, 93, 75, 34, 63, 73, 46, 34, 17, 84, 87, 15, 86, 83, 99, 3, 84, 27, 32, 28, 36, 80, 32, 45, 69, 60, 36, 64, 73, 93, 97, 83, 65, 57, 60, 40, 96, 23, 91, 58, 64, 8, 41, 97, 37, 99, 76, 6, 88, 70, 34, 88, 68, 7, 76, 57, 38, 3, 64, 5, 27, 4, 23, 92, 2, 6, 94, 48, 64, 52, 31, 68, 71, 84, 93, 97, 68, 96, 74, 67, 64, 54, 9, 21, 31, 97, 86, 67, 47, 95, 10, 9, 79, 71, 82, 88, 6, 65, 7, 94, 92, 37, 29, 30, 89, 44, 91, 22, 55, 54, 77, 39, 62, 41, 76, 44, 13, 6, 53, 42, 22, 50, 39, 30, 5, 32, 53, 45, 69, 94, 37, 49, 59, 13, 9, 61, 29, 97, 65, 40, 26, 81, 59, 21, 62, 71, 87, 88, 28, 55, 46]\n"
     ]
    }
   ],
   "source": [
    "import random\n",
    "\n",
    "# GENERATE RANDOM\n",
    "nilaiTugas = []\n",
    "for i in range(250):\n",
    "    nilaiTugas.append(random.randrange(1,100,1))\n",
    "\n",
    "print(nilaiTugas)\n",
    "\n",
    "# TAMPILKAN:\n",
    "# ganjil\n",
    "# nilai > 70\n",
    "# standar deviasi\n",
    "# maksimum\n",
    "# minimum\n",
    "# modus"
   ]
  },
  {
   "cell_type": "code",
   "execution_count": 20,
   "metadata": {},
   "outputs": [
    {
     "name": "stdout",
     "output_type": "stream",
     "text": [
      "[63, 65, 67, 99, 67, 27, 9, 97, 63, 27, 21, 39, 65, 15, 23, 59, 25, 35, 49, 63, 97, 15, 81, 93, 59, 85, 81, 99, 33, 95, 57, 79, 49, 75, 51, 45, 9, 31, 73, 11, 11, 49, 55, 91, 47, 97, 35, 97, 33, 11, 65, 47, 15, 13, 25, 9, 55, 93, 75, 63, 73, 17, 87, 15, 83, 99, 3, 27, 45, 69, 73, 93, 97, 83, 65, 57, 23, 91, 41, 97, 37, 99, 7, 57, 3, 5, 27, 23, 31, 71, 93, 97, 67, 9, 21, 31, 97, 67, 47, 95, 9, 79, 71, 65, 7, 37, 29, 89, 91, 55, 77, 39, 41, 13, 53, 39, 5, 53, 45, 69, 37, 49, 59, 13, 9, 61, 29, 97, 65, 81, 59, 21, 71, 87, 55]\n"
     ]
    }
   ],
   "source": [
    "#angka ganjil\n",
    "ganjil=[]\n",
    "for n in nilaiTugas:\n",
    "    if n%2 != 0:\n",
    "        ganjil.append(n)\n",
    "print(ganjil)"
   ]
  },
  {
   "cell_type": "code",
   "execution_count": 21,
   "metadata": {},
   "outputs": [
    {
     "name": "stdout",
     "output_type": "stream",
     "text": [
      "jumlah nilai yang lebih besar dari 70 ada sebanyak 88\n"
     ]
    }
   ],
   "source": [
    "# nilai > 70\n",
    "for n in nilaiTugas:\n",
    "    if n > 70:\n",
    "        nilai_70 = n\n",
    "print(\"jumlah nilai yang lebih besar dari 70 ada sebanyak\",nilai_70)"
   ]
  },
  {
   "cell_type": "code",
   "execution_count": 22,
   "metadata": {},
   "outputs": [
    {
     "name": "stdout",
     "output_type": "stream",
     "text": [
      "nilai maksimum = 99\n"
     ]
    }
   ],
   "source": [
    "# maksimum\n",
    "max = nilaiTugas[0];\n",
    "for n in nilaiTugas:\n",
    "    if  nilaiTugas[n] > max:\n",
    "        max = nilaiTugas[n]\n",
    "print(\"nilai maksimum =\",max)"
   ]
  },
  {
   "cell_type": "code",
   "execution_count": 23,
   "metadata": {},
   "outputs": [
    {
     "name": "stdout",
     "output_type": "stream",
     "text": [
      "nilai minimum = 9\n"
     ]
    }
   ],
   "source": [
    "# minimum\n",
    "min = nilaiTugas[0];\n",
    "for n in nilaiTugas:\n",
    "    if  nilaiTugas[n] < min:\n",
    "        min = nilaiTugas[n]\n",
    "print(\"nilai minimum =\",min)"
   ]
  },
  {
   "cell_type": "code",
   "execution_count": 24,
   "metadata": {
    "scrolled": true
   },
   "outputs": [
    {
     "name": "stdout",
     "output_type": "stream",
     "text": [
      "Jumlah nilai keseluruhan = 12756\n",
      "banyak_data = 204031.85599999997\n",
      "panjang_data = 250\n",
      "standar deviasi = 28.62525186224056\n"
     ]
    }
   ],
   "source": [
    "#menghitung rata_rata\n",
    "jumlah_nilai=0\n",
    "pjg_data=len(nilaiTugas)\n",
    "for n in nilaiTugas:\n",
    "    jumlah_nilai=jumlah_nilai+nilaiTugas[n]    \n",
    "rata_rata=jumlah_nilai/pjg_data\n",
    "\n",
    "#menghitung standar deviasi\n",
    "banyak_data=0\n",
    "for i in nilaiTugas:\n",
    "    banyak_data=banyak_data+(nilaiTugas[i]-rata_rata)**2\n",
    "    \n",
    "std_deviasi=(banyak_data/(pjg_data-1))**0.5\n",
    "\n",
    "print(\"Jumlah nilai keseluruhan =\", jumlah_nilai)\n",
    "print(\"banyak_data =\", banyak_data)\n",
    "print(\"panjang_data =\", pjg_data)\n",
    "print(\"standar deviasi =\", std_deviasi)"
   ]
  },
  {
   "cell_type": "code",
   "execution_count": 25,
   "metadata": {
    "scrolled": true
   },
   "outputs": [
    {
     "name": "stdout",
     "output_type": "stream",
     "text": [
      "modus = [97]  dengan frekuensi kemunculan terbanyak = 9\n"
     ]
    }
   ],
   "source": [
    "frekuensi_max = 0\n",
    "modus = []\n",
    "for x in nilaiTugas:\n",
    "    if x in modus:\n",
    "        continue\n",
    "    kejadian = nilaiTugas.count(x)\n",
    "    if kejadian > frekuensi_max:\n",
    "        del modus[:]\n",
    "        modus.append(x)\n",
    "        frekuensi_max = kejadian\n",
    "    elif kejadian == frekuensi_max:\n",
    "        modus.append(x)\n",
    "        \n",
    "print(\"modus =\",modus, \" dengan frekuensi kemunculan terbanyak =\",frekuensi_max)"
   ]
  },
  {
   "cell_type": "markdown",
   "metadata": {},
   "source": [
    "# Jawaban Nomor 3"
   ]
  },
  {
   "cell_type": "code",
   "execution_count": 26,
   "metadata": {},
   "outputs": [
    {
     "name": "stdout",
     "output_type": "stream",
     "text": [
      "Barcelona berhasil merebut posisi puncak klasemen La Liga Spanyol seusai menang 4-2 atas Sevilla pada pertandingan pekan kesembilan di Stadion Camp Nou, Sabtu (20/10/2018) atau Minggu dini hari WIB. Barcelona membuka keunggulan pada menit ke-2 melalui gol yang dicetak oleh Philippe Coutinho. Lionel Messi menggandakan keunggulan Barcelona, 10 menit berselang.  Namun, nahas bagi Barcelona, karena Messi harus ditarik keluar pada menit ke-26 setelah mengalami cedera. Tanpa Messi, skor 2-0 bertahan hingga babak pertama berakhir.\n"
     ]
    }
   ],
   "source": [
    "paragraf = \"Barcelona berhasil merebut posisi puncak klasemen La Liga Spanyol seusai menang 4-2 atas Sevilla pada pertandingan pekan kesembilan di Stadion Camp Nou, Sabtu (20/10/2018) atau Minggu dini hari WIB. Barcelona membuka keunggulan pada menit ke-2 melalui gol yang dicetak oleh Philippe Coutinho. Lionel Messi menggandakan keunggulan Barcelona, 10 menit berselang.  Namun, nahas bagi Barcelona, karena Messi harus ditarik keluar pada menit ke-26 setelah mengalami cedera. Tanpa Messi, skor 2-0 bertahan hingga babak pertama berakhir.\"\n",
    "print(paragraf)"
   ]
  },
  {
   "cell_type": "code",
   "execution_count": 27,
   "metadata": {},
   "outputs": [
    {
     "name": "stdout",
     "output_type": "stream",
     "text": [
      "Barcelona berhasil merebut posisi puncak klasemen La Liga Spanyol seusai menang 4 2 atas Sevilla pada pertandingan pekan kesembilan di Stadion Camp Nou  Sabtu  20 10 2018  atau Minggu dini hari WIB  Barcelona membuka keunggulan pada menit ke 2 melalui gol yang dicetak oleh Philippe Coutinho  Lionel Messi menggandakan keunggulan Barcelona  10 menit berselang   Namun  nahas bagi Barcelona  karena Messi harus ditarik keluar pada menit ke 26 setelah mengalami cedera  Tanpa Messi  skor 2 0 bertahan hingga babak pertama berakhir \n"
     ]
    }
   ],
   "source": [
    "#bersihkan paragraf\n",
    "simbol = \".,-/()\"\n",
    "for x in simbol:\n",
    "    paragraf=paragraf.replace(x, \" \")\n",
    "print(paragraf)"
   ]
  },
  {
   "cell_type": "code",
   "execution_count": 28,
   "metadata": {},
   "outputs": [
    {
     "name": "stdout",
     "output_type": "stream",
     "text": [
      "barcelona berhasil merebut posisi puncak klasemen la liga spanyol seusai menang 4 2 atas sevilla pada pertandingan pekan kesembilan di stadion camp nou  sabtu  20 10 2018  atau minggu dini hari wib  barcelona membuka keunggulan pada menit ke 2 melalui gol yang dicetak oleh philippe coutinho  lionel messi menggandakan keunggulan barcelona  10 menit berselang   namun  nahas bagi barcelona  karena messi harus ditarik keluar pada menit ke 26 setelah mengalami cedera  tanpa messi  skor 2 0 bertahan hingga babak pertama berakhir \n"
     ]
    }
   ],
   "source": [
    "#kecilkan semua huruf\n",
    "paragraf_kecil=paragraf.lower()\n",
    "print(paragraf_kecil)"
   ]
  },
  {
   "cell_type": "code",
   "execution_count": 29,
   "metadata": {},
   "outputs": [
    {
     "name": "stdout",
     "output_type": "stream",
     "text": [
      "['Barcelona', 'berhasil', 'merebut', 'posisi', 'puncak', 'klasemen', 'La', 'Liga', 'Spanyol', 'seusai', 'menang', '4', '2', 'atas', 'Sevilla', 'pada', 'pertandingan', 'pekan', 'kesembilan', 'di', 'Stadion', 'Camp', 'Nou', 'Sabtu', '20', '10', '2018', 'atau', 'Minggu', 'dini', 'hari', 'WIB', 'Barcelona', 'membuka', 'keunggulan', 'pada', 'menit', 'ke', '2', 'melalui', 'gol', 'yang', 'dicetak', 'oleh', 'Philippe', 'Coutinho', 'Lionel', 'Messi', 'menggandakan', 'keunggulan', 'Barcelona', '10', 'menit', 'berselang', 'Namun', 'nahas', 'bagi', 'Barcelona', 'karena', 'Messi', 'harus', 'ditarik', 'keluar', 'pada', 'menit', 'ke', '26', 'setelah', 'mengalami', 'cedera', 'Tanpa', 'Messi', 'skor', '2', '0', 'bertahan', 'hingga', 'babak', 'pertama', 'berakhir']\n"
     ]
    }
   ],
   "source": [
    "#pisahkan paragraf menjadi perkata\n",
    "list_kata=paragraf.split()\n",
    "print(list_kata)"
   ]
  },
  {
   "cell_type": "code",
   "execution_count": 30,
   "metadata": {},
   "outputs": [
    {
     "name": "stdout",
     "output_type": "stream",
     "text": [
      "Barcelona : 4\n",
      "berhasil : 1\n",
      "merebut : 1\n",
      "posisi : 1\n",
      "puncak : 1\n",
      "klasemen : 1\n",
      "La : 1\n",
      "Liga : 1\n",
      "Spanyol : 1\n",
      "seusai : 1\n",
      "menang : 1\n",
      "4 : 1\n",
      "2 : 3\n",
      "atas : 1\n",
      "Sevilla : 1\n",
      "pada : 3\n",
      "pertandingan : 1\n",
      "pekan : 1\n",
      "kesembilan : 1\n",
      "di : 1\n",
      "Stadion : 1\n",
      "Camp : 1\n",
      "Nou : 1\n",
      "Sabtu : 1\n",
      "20 : 1\n",
      "10 : 2\n",
      "2018 : 1\n",
      "atau : 1\n",
      "Minggu : 1\n",
      "dini : 1\n",
      "hari : 1\n",
      "WIB : 1\n",
      "membuka : 1\n",
      "keunggulan : 2\n",
      "menit : 3\n",
      "ke : 2\n",
      "melalui : 1\n",
      "gol : 1\n",
      "yang : 1\n",
      "dicetak : 1\n",
      "oleh : 1\n",
      "Philippe : 1\n",
      "Coutinho : 1\n",
      "Lionel : 1\n",
      "Messi : 3\n",
      "menggandakan : 1\n",
      "berselang : 1\n",
      "Namun : 1\n",
      "nahas : 1\n",
      "bagi : 1\n",
      "karena : 1\n",
      "harus : 1\n",
      "ditarik : 1\n",
      "keluar : 1\n",
      "26 : 1\n",
      "setelah : 1\n",
      "mengalami : 1\n",
      "cedera : 1\n",
      "Tanpa : 1\n",
      "skor : 1\n",
      "0 : 1\n",
      "bertahan : 1\n",
      "hingga : 1\n",
      "babak : 1\n",
      "pertama : 1\n",
      "berakhir : 1\n"
     ]
    }
   ],
   "source": [
    "#masukkan list_kata kedalam dictionary dengan keynya = kata dan valuenya = jumlah kemunculan keluarnya kata \n",
    "kamus={}\n",
    "\n",
    "for kata in list_kata: \n",
    "    if kata not in kamus:\n",
    "        kamus[kata]=0\n",
    "    kamus[kata] = kamus[kata] + 1\n",
    "\n",
    "for k,v in kamus.items():\n",
    "    print(k,':',v)"
   ]
  }
 ],
 "metadata": {
  "kernelspec": {
   "display_name": "Python 3",
   "language": "python",
   "name": "python3"
  },
  "language_info": {
   "codemirror_mode": {
    "name": "ipython",
    "version": 3
   },
   "file_extension": ".py",
   "mimetype": "text/x-python",
   "name": "python",
   "nbconvert_exporter": "python",
   "pygments_lexer": "ipython3",
   "version": "3.7.0"
  }
 },
 "nbformat": 4,
 "nbformat_minor": 2
}

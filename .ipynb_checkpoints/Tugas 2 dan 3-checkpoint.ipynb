{
 "cells": [
  {
   "cell_type": "markdown",
   "metadata": {},
   "source": [
    "# Jawaban Nomor 2"
   ]
  },
  {
   "cell_type": "code",
   "execution_count": 84,
   "metadata": {},
   "outputs": [
    {
     "name": "stdout",
     "output_type": "stream",
     "text": [
      "[35, 10, 63, 89, 54, 77, 11, 8, 61, 43, 47, 32, 69, 65, 36, 77, 68, 80, 66, 75, 30, 43, 91, 78, 55, 73, 6, 33, 62, 58, 39, 30, 94, 4, 92, 66, 9, 72, 70, 34, 3, 18, 19, 98, 29, 80, 57, 53, 9, 18, 60, 55, 25, 48, 42, 18, 79, 79, 39, 26, 58, 55, 55, 69, 88, 20, 63, 98, 67, 18, 94, 66, 90, 98, 73, 17, 86, 27, 21, 18, 78, 92, 18, 96, 26, 57, 70, 44, 99, 45, 57, 44, 77, 37, 95, 29, 99, 71, 29, 38, 28, 63, 59, 73, 8, 19, 16, 52, 29, 56, 21, 95, 66, 13, 67, 23, 26, 38, 16, 69, 92, 37, 41, 3, 71, 32, 72, 96, 93, 19, 38, 41, 34, 6, 8, 29, 16, 46, 39, 74, 79, 72, 39, 80, 28, 36, 83, 95, 36, 58, 9, 11, 64, 8, 7, 60, 86, 53, 2, 79, 43, 66, 51, 86, 11, 34, 40, 25, 76, 55, 88, 12, 23, 80, 46, 78, 90, 42, 39, 46, 5, 30, 75, 92, 2, 38, 70, 15, 91, 77, 38, 42, 82, 10, 47, 84, 92, 69, 71, 5, 90, 11, 22, 85, 11, 99, 44, 10, 7, 87, 9, 55, 14, 60, 17, 58, 69, 11, 66, 65, 89, 4, 30, 32, 4, 43, 97, 72, 52, 17, 29, 19, 45, 76, 32, 24, 45, 74, 21, 54, 91, 40, 55, 48, 66, 86, 96, 24, 74, 82]\n"
     ]
    }
   ],
   "source": [
    "import random\n",
    "\n",
    "# GENERATE RANDOM\n",
    "nilaiTugas = []\n",
    "for i in range(250):\n",
    "    nilaiTugas.append(random.randrange(1,100,1))\n",
    "\n",
    "print(nilaiTugas)\n",
    "\n",
    "# TAMPILKAN:\n",
    "# ganjil\n",
    "# nilai > 70\n",
    "# standar deviasi\n",
    "# maksimum\n",
    "# minimum\n",
    "# modus"
   ]
  },
  {
   "cell_type": "code",
   "execution_count": 85,
   "metadata": {},
   "outputs": [
    {
     "name": "stdout",
     "output_type": "stream",
     "text": [
      "[35, 63, 89, 77, 11, 61, 43, 47, 69, 65, 77, 75, 43, 91, 55, 73, 33, 39, 9, 3, 19, 29, 57, 53, 9, 55, 25, 79, 79, 39, 55, 55, 69, 63, 67, 73, 17, 27, 21, 57, 99, 45, 57, 77, 37, 95, 29, 99, 71, 29, 63, 59, 73, 19, 29, 21, 95, 13, 67, 23, 69, 37, 41, 3, 71, 93, 19, 41, 29, 39, 79, 39, 83, 95, 9, 11, 7, 53, 79, 43, 51, 11, 25, 55, 23, 39, 5, 75, 15, 91, 77, 47, 69, 71, 5, 11, 85, 11, 99, 7, 87, 9, 55, 17, 69, 11, 65, 89, 43, 97, 17, 29, 19, 45, 45, 21, 91, 55]\n"
     ]
    }
   ],
   "source": [
    "#angka ganjil\n",
    "ganjil=[]\n",
    "for n in nilaiTugas:\n",
    "    if n%2 != 0:\n",
    "        ganjil.append(n)\n",
    "print(ganjil)"
   ]
  },
  {
   "cell_type": "code",
   "execution_count": 99,
   "metadata": {},
   "outputs": [
    {
     "name": "stdout",
     "output_type": "stream",
     "text": [
      "jumlah nilai yang lebih besar dari 70 ada sebanyak 82\n"
     ]
    }
   ],
   "source": [
    "# nilai > 70\n",
    "for n in nilaiTugas:\n",
    "    if n > 70:\n",
    "        nilai_70 = n\n",
    "print(\"jumlah nilai yang lebih besar dari 70 ada sebanyak\",nilai_70)"
   ]
  },
  {
   "cell_type": "code",
   "execution_count": 87,
   "metadata": {},
   "outputs": [
    {
     "name": "stdout",
     "output_type": "stream",
     "text": [
      "nilai maksimum = 99\n"
     ]
    }
   ],
   "source": [
    "# maksimum\n",
    "max = nilaiTugas[0];\n",
    "for n in nilaiTugas:\n",
    "    if  nilaiTugas[n] > max:\n",
    "        max = nilaiTugas[n]\n",
    "print(\"nilai maksimum =\",max)"
   ]
  },
  {
   "cell_type": "code",
   "execution_count": 88,
   "metadata": {},
   "outputs": [
    {
     "name": "stdout",
     "output_type": "stream",
     "text": [
      "nilai minimum = 3\n"
     ]
    }
   ],
   "source": [
    "# minimum\n",
    "min = nilaiTugas[0];\n",
    "for n in nilaiTugas:\n",
    "    if  nilaiTugas[n] < min:\n",
    "        min = nilaiTugas[n]\n",
    "print(\"nilai minimum =\",min)"
   ]
  },
  {
   "cell_type": "code",
   "execution_count": 89,
   "metadata": {
    "scrolled": true
   },
   "outputs": [
    {
     "name": "stdout",
     "output_type": "stream",
     "text": [
      "Jumlah nilai keseluruhan = 13495\n",
      "banyak_data = 179342.90000000008\n",
      "panjang_data = 250\n",
      "standar deviasi = 26.837522434862862\n"
     ]
    }
   ],
   "source": [
    "#menghitung rata_rata\n",
    "jumlah_nilai=0\n",
    "pjg_data=len(nilaiTugas)\n",
    "for n in nilaiTugas:\n",
    "    jumlah_nilai=jumlah_nilai+nilaiTugas[n]    \n",
    "rata_rata=jumlah_nilai/pjg_data\n",
    "\n",
    "#menghitung standar deviasi\n",
    "banyak_data=0\n",
    "for i in nilaiTugas:\n",
    "    banyak_data=banyak_data+(nilaiTugas[i]-rata_rata)**2\n",
    "    \n",
    "std_deviasi=(banyak_data/(pjg_data-1))**0.5\n",
    "\n",
    "print(\"Jumlah nilai keseluruhan =\", jumlah_nilai)\n",
    "print(\"banyak_data =\", banyak_data)\n",
    "print(\"panjang_data =\", pjg_data)\n",
    "print(\"standar deviasi =\", std_deviasi)"
   ]
  },
  {
   "cell_type": "code",
   "execution_count": 98,
   "metadata": {
    "scrolled": true
   },
   "outputs": [
    {
     "name": "stdout",
     "output_type": "stream",
     "text": [
      "modus = [66, 55]  dengan frekuensi kemunculan terbanyak = 7\n"
     ]
    }
   ],
   "source": [
    "frekuensi_max = 0\n",
    "modus = []\n",
    "for x in nilaiTugas:\n",
    "    if x in modus:\n",
    "        continue\n",
    "    kejadian = nilaiTugas.count(x)\n",
    "    if kejadian > frekuensi_max:\n",
    "        del modus[:]\n",
    "        modus.append(x)\n",
    "        frekuensi_max = kejadian\n",
    "    elif kejadian == frekuensi_max:\n",
    "        modus.append(x)\n",
    "        \n",
    "print(\"modus =\",modus, \" dengan frekuensi kemunculan terbanyak =\",frekuensi_max)"
   ]
  },
  {
   "cell_type": "markdown",
   "metadata": {},
   "source": [
    "# Jawaban Nomor 3"
   ]
  },
  {
   "cell_type": "code",
   "execution_count": 91,
   "metadata": {},
   "outputs": [
    {
     "name": "stdout",
     "output_type": "stream",
     "text": [
      "Barcelona berhasil merebut posisi puncak klasemen La Liga Spanyol seusai menang 4-2 atas Sevilla pada pertandingan pekan kesembilan di Stadion Camp Nou, Sabtu (20/10/2018) atau Minggu dini hari WIB. Barcelona membuka keunggulan pada menit ke-2 melalui gol yang dicetak oleh Philippe Coutinho. Lionel Messi menggandakan keunggulan Barcelona, 10 menit berselang.  Namun, nahas bagi Barcelona, karena Messi harus ditarik keluar pada menit ke-26 setelah mengalami cedera. Tanpa Messi, skor 2-0 bertahan hingga babak pertama berakhir.\n"
     ]
    }
   ],
   "source": [
    "paragraf = \"Barcelona berhasil merebut posisi puncak klasemen La Liga Spanyol seusai menang 4-2 atas Sevilla pada pertandingan pekan kesembilan di Stadion Camp Nou, Sabtu (20/10/2018) atau Minggu dini hari WIB. Barcelona membuka keunggulan pada menit ke-2 melalui gol yang dicetak oleh Philippe Coutinho. Lionel Messi menggandakan keunggulan Barcelona, 10 menit berselang.  Namun, nahas bagi Barcelona, karena Messi harus ditarik keluar pada menit ke-26 setelah mengalami cedera. Tanpa Messi, skor 2-0 bertahan hingga babak pertama berakhir.\"\n",
    "print(paragraf)"
   ]
  },
  {
   "cell_type": "code",
   "execution_count": 92,
   "metadata": {},
   "outputs": [
    {
     "name": "stdout",
     "output_type": "stream",
     "text": [
      "Barcelona berhasil merebut posisi puncak klasemen La Liga Spanyol seusai menang 42 atas Sevilla pada pertandingan pekan kesembilan di Stadion Camp Nou Sabtu 20102018 atau Minggu dini hari WIB Barcelona membuka keunggulan pada menit ke2 melalui gol yang dicetak oleh Philippe Coutinho Lionel Messi menggandakan keunggulan Barcelona 10 menit berselang  Namun nahas bagi Barcelona karena Messi harus ditarik keluar pada menit ke26 setelah mengalami cedera Tanpa Messi skor 20 bertahan hingga babak pertama berakhir\n"
     ]
    }
   ],
   "source": [
    "#bersihkan paragraf\n",
    "simbol = \".,-/()\"\n",
    "for x in simbol:\n",
    "    paragraf=paragraf.replace(x, \"\")\n",
    "print(paragraf)"
   ]
  },
  {
   "cell_type": "code",
   "execution_count": 93,
   "metadata": {},
   "outputs": [
    {
     "name": "stdout",
     "output_type": "stream",
     "text": [
      "barcelona berhasil merebut posisi puncak klasemen la liga spanyol seusai menang 42 atas sevilla pada pertandingan pekan kesembilan di stadion camp nou sabtu 20102018 atau minggu dini hari wib barcelona membuka keunggulan pada menit ke2 melalui gol yang dicetak oleh philippe coutinho lionel messi menggandakan keunggulan barcelona 10 menit berselang  namun nahas bagi barcelona karena messi harus ditarik keluar pada menit ke26 setelah mengalami cedera tanpa messi skor 20 bertahan hingga babak pertama berakhir\n"
     ]
    }
   ],
   "source": [
    "#kecilkan semua huruf\n",
    "paragraf_kecil=paragraf.lower()\n",
    "print(paragraf_kecil)"
   ]
  },
  {
   "cell_type": "code",
   "execution_count": 94,
   "metadata": {},
   "outputs": [
    {
     "name": "stdout",
     "output_type": "stream",
     "text": [
      "['Barcelona', 'berhasil', 'merebut', 'posisi', 'puncak', 'klasemen', 'La', 'Liga', 'Spanyol', 'seusai', 'menang', '42', 'atas', 'Sevilla', 'pada', 'pertandingan', 'pekan', 'kesembilan', 'di', 'Stadion', 'Camp', 'Nou', 'Sabtu', '20102018', 'atau', 'Minggu', 'dini', 'hari', 'WIB', 'Barcelona', 'membuka', 'keunggulan', 'pada', 'menit', 'ke2', 'melalui', 'gol', 'yang', 'dicetak', 'oleh', 'Philippe', 'Coutinho', 'Lionel', 'Messi', 'menggandakan', 'keunggulan', 'Barcelona', '10', 'menit', 'berselang', 'Namun', 'nahas', 'bagi', 'Barcelona', 'karena', 'Messi', 'harus', 'ditarik', 'keluar', 'pada', 'menit', 'ke26', 'setelah', 'mengalami', 'cedera', 'Tanpa', 'Messi', 'skor', '20', 'bertahan', 'hingga', 'babak', 'pertama', 'berakhir']\n"
     ]
    }
   ],
   "source": [
    "#pisahkan paragraf menjadi perkata\n",
    "list_kata=paragraf.split()\n",
    "print(list_kata)"
   ]
  },
  {
   "cell_type": "code",
   "execution_count": 95,
   "metadata": {},
   "outputs": [
    {
     "name": "stdout",
     "output_type": "stream",
     "text": [
      "Barcelona : 4\n",
      "berhasil : 1\n",
      "merebut : 1\n",
      "posisi : 1\n",
      "puncak : 1\n",
      "klasemen : 1\n",
      "La : 1\n",
      "Liga : 1\n",
      "Spanyol : 1\n",
      "seusai : 1\n",
      "menang : 1\n",
      "42 : 1\n",
      "atas : 1\n",
      "Sevilla : 1\n",
      "pada : 3\n",
      "pertandingan : 1\n",
      "pekan : 1\n",
      "kesembilan : 1\n",
      "di : 1\n",
      "Stadion : 1\n",
      "Camp : 1\n",
      "Nou : 1\n",
      "Sabtu : 1\n",
      "20102018 : 1\n",
      "atau : 1\n",
      "Minggu : 1\n",
      "dini : 1\n",
      "hari : 1\n",
      "WIB : 1\n",
      "membuka : 1\n",
      "keunggulan : 2\n",
      "menit : 3\n",
      "ke2 : 1\n",
      "melalui : 1\n",
      "gol : 1\n",
      "yang : 1\n",
      "dicetak : 1\n",
      "oleh : 1\n",
      "Philippe : 1\n",
      "Coutinho : 1\n",
      "Lionel : 1\n",
      "Messi : 3\n",
      "menggandakan : 1\n",
      "10 : 1\n",
      "berselang : 1\n",
      "Namun : 1\n",
      "nahas : 1\n",
      "bagi : 1\n",
      "karena : 1\n",
      "harus : 1\n",
      "ditarik : 1\n",
      "keluar : 1\n",
      "ke26 : 1\n",
      "setelah : 1\n",
      "mengalami : 1\n",
      "cedera : 1\n",
      "Tanpa : 1\n",
      "skor : 1\n",
      "20 : 1\n",
      "bertahan : 1\n",
      "hingga : 1\n",
      "babak : 1\n",
      "pertama : 1\n",
      "berakhir : 1\n"
     ]
    }
   ],
   "source": [
    "#masukkan list_kata kedalam dictionary dengan keynya = kata dan valuenya = jumlah kemunculan keluarnya kata \n",
    "kamus={}\n",
    "\n",
    "for kata in list_kata: \n",
    "    if kata not in kamus:\n",
    "        kamus[kata]=0\n",
    "    kamus[kata] = kamus[kata] + 1\n",
    "\n",
    "for k,v in kamus.items():\n",
    "    print(k,':',v)"
   ]
  }
 ],
 "metadata": {
  "kernelspec": {
   "display_name": "Python 3",
   "language": "python",
   "name": "python3"
  },
  "language_info": {
   "codemirror_mode": {
    "name": "ipython",
    "version": 3
   },
   "file_extension": ".py",
   "mimetype": "text/x-python",
   "name": "python",
   "nbconvert_exporter": "python",
   "pygments_lexer": "ipython3",
   "version": "3.7.0"
  }
 },
 "nbformat": 4,
 "nbformat_minor": 2
}
